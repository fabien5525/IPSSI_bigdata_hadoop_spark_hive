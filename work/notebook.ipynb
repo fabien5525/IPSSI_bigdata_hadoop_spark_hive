{
 "cells": [
  {
   "cell_type": "code",
   "execution_count": 1,
   "metadata": {},
   "outputs": [],
   "source": [
    "from pyspark.sql import SparkSession\n",
    "\n",
    "spark = SparkSession.builder.getOrCreate()\n",
    "\n",
    "anime_mal = spark.read.csv(\"hdfs://namenode:9000/data/anime/mal/anime.csv\", header=True, inferSchema=True)\n",
    "anime_2023 = spark.read.csv(\"hdfs://namenode:9000/data/anime/2023/anime.csv\", header=True, inferSchema=True)"
   ]
  },
  {
   "cell_type": "code",
   "execution_count": 2,
   "metadata": {},
   "outputs": [
    {
     "name": "stdout",
     "output_type": "stream",
     "text": [
      "+--------------------+--------------------+--------------------+--------------------+--------------------+--------------------+-------------+--------------------+--------------------+------------+\n",
      "|            anime_id|                Name|        English name|          Other name|               Score|              Genres|     Synopsis|                Type|            Episodes|       Aired|\n",
      "+--------------------+--------------------+--------------------+--------------------+--------------------+--------------------+-------------+--------------------+--------------------+------------+\n",
      "|      (Source: ANN)\"|                 ONA|                13.0|Jun 16, 2006 to M...|             UNKNOWN|     Finished Airing|      Aniplex|Bandai Entertainment|   The Answer Studio|    Original|\n",
      "|  (Source: DramaWiki|            edited)\"|                  TV|             UNKNOWN|       Not available|             UNKNOWN|Not yet aired|             UNKNOWN|             UNKNOWN|     UNKNOWN|\n",
      "| (Source: The Ani...|                 OVA|                 4.0|Dec 17, 1993 to F...|             UNKNOWN|     Finished Airing|      UNKNOWN|             UNKNOWN|Toei Animation, K...|     Unknown|\n",
      "| After a fierce b...| the human race h...|                NULL|                NULL|                NULL|                NULL|         NULL|                NULL|                NULL|        NULL|\n",
      "| In order to open...| the protagonist ...|                NULL|                NULL|                NULL|                NULL|         NULL|                NULL|                NULL|        NULL|\n",
      "|    In the mean time| a sheep from the...|                NULL|                NULL|                NULL|                NULL|         NULL|                NULL|                NULL|        NULL|\n",
      "| It compares exis...| it contemplates ...| and to the perso...| it will be appea...|                NULL|                NULL|         NULL|                NULL|                NULL|        NULL|\n",
      "| It is based on t...|                 OVA|                 3.0|Sep 26, 2003 to A...|             UNKNOWN|     Finished Airing|          KSS|             UNKNOWN|Picture Magic, A-...|Visual novel|\n",
      "|          New rivals| but also friends...| an American girl...| step up to bat a...| a Spanish ex-bul...| and seems to hav...|         NULL|                NULL|                NULL|        NULL|\n",
      "| The enigma of co...|                NULL|                NULL|                NULL|                NULL|                NULL|         NULL|                NULL|                NULL|        NULL|\n",
      "| The ghost encoun...|                NULL|                NULL|                NULL|                NULL|                NULL|         NULL|                NULL|                NULL|        NULL|\n",
      "| The grotesque en...|                NULL|                NULL|                NULL|                NULL|                NULL|         NULL|                NULL|                NULL|        NULL|\n",
      "| This video is ac...|               Music|                 1.0|         Jun 3, 1974|             UNKNOWN|     Finished Airing|          NHK|             UNKNOWN|             UNKNOWN|    Original|\n",
      "| This work depict...|    “Tamed Wildness”|                etc.|                NULL|                NULL|                NULL|         NULL|                NULL|                NULL|        NULL|\n",
      "| To counter the e...| the Khronos Foun...| thus giving birt...|                NULL|                NULL|                NULL|         NULL|                NULL|                NULL|        NULL|\n",
      "| Vol.1: \"\"code:ex...|                   2|    3 &amp; Plus 1\"\"|              Dec 17|                2012|                NULL|         NULL|                NULL|                NULL|        NULL|\n",
      "| Vol.2: \"\"code:10...|              Feb 15|                2013|                NULL|                NULL|                NULL|         NULL|                NULL|                NULL|        NULL|\n",
      "| Vol.3: \"\"code:4k...|              Apr 17|               2013\"|                 OVA|                 3.0|Dec 17, 2012 to A...|      UNKNOWN|     Finished Airing|             UNKNOWN|     UNKNOWN|\n",
      "| With the third-y...| the team has to ...|                NULL|                NULL|                NULL|                NULL|         NULL|                NULL|                NULL|        NULL|\n",
      "|\"\"......I-I...lov...|       Asato......\"\"|                NULL|                NULL|                NULL|                NULL|         NULL|                NULL|                NULL|        NULL|\n",
      "+--------------------+--------------------+--------------------+--------------------+--------------------+--------------------+-------------+--------------------+--------------------+------------+\n",
      "only showing top 20 rows\n",
      "\n"
     ]
    }
   ],
   "source": [
    "#show all header of df anime_2023\n",
    "anime_2023.orderBy('anime_id').select(anime_2023.columns[:10]).show()"
   ]
  }
 ],
 "metadata": {
  "kernelspec": {
   "display_name": "Python 3 (ipykernel)",
   "language": "python",
   "name": "python3"
  }
 },
 "nbformat": 4,
 "nbformat_minor": 2
}
